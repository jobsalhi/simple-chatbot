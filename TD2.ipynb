{
 "cells": [
  {
   "cell_type": "code",
   "execution_count": 2,
   "metadata": {},
   "outputs": [],
   "source": [
    "import re\n"
   ]
  },
  {
   "cell_type": "code",
   "execution_count": 3,
   "metadata": {},
   "outputs": [],
   "source": [
    "# Definition des fonctions \n",
    "def calculate_sum(match):\n",
    "    return f\"Le résultat est {int(match.group(1)) + int(match.group(2))}\"\n",
    "\n",
    "\n"
   ]
  },
  {
   "cell_type": "code",
   "execution_count": 5,
   "metadata": {},
   "outputs": [],
   "source": [
    "reglesV2 = [\n",
    "    [\"bonjour1\", \"salut\", \"Salut à toi !\", 1, None],\n",
    "    [\"bonjour2\", \"salut\", \"Salut!\", 2, None],\n",
    "    [\"bonjour2\", \"bonjour\", \"Salut humain\", 1, None],\n",
    "    [\"presentation1\", \"mon nom est .*\", \"Enchanté :)\", 2, None],\n",
    "    [\"presentation2\", \"je m'appelle .*\", \"Enchanté :)\", 2, None],\n",
    "    [\"presentation3\", \"je suis .*\", \"Enchanté :)\", 2, None],\n",
    "    [\"bye\", \"by.*\", \"Au revoir :/\", 1, None],\n",
    "    [\"au revoir\", \"au revoir\", \"Au revoir :/\", 1, None],\n",
    "    [\"jo\", \"jeux olympiques\", \"Les prochains JO auront lieu à Paris en 2024.\", 3, None],\n",
    "    [\"capacite\", \"capable de faire .*\", \"Je peux parler des futurs JO et calculer des sommes.\", 2, None],\n",
    "    [\"calcul\", r\"calculer (\\d+) et (\\d+)\", None, 4, calculate_sum],\n",
    "    [\"age\", \"quel est ton âge\", \"Je suis un programme informatique, je n'ai pas d'âge !\", 2, None],\n",
    "    [\"humeur\", \"comment vas-tu\", \"Je suis un programme informatique, je n'ai pas de sensations !\", 2, None],\n",
    "    [\"inconnu\", \".*\", \"Je ne sais pas.\", 0, None]\n",
    "]"
   ]
  },
  {
   "cell_type": "code",
   "execution_count": 6,
   "metadata": {},
   "outputs": [
    {
     "name": "stdout",
     "output_type": "stream",
     "text": [
      "Salut à toi !\n",
      "Le résultat est 10\n",
      "Au revoir :/\n"
     ]
    }
   ],
   "source": [
    "\n",
    "c = \"\"\n",
    "while (c != \"bye\" and c != \"au revoir\"):\n",
    "    c = input(\"> \") # le prompt\n",
    "    max_priority = -1\n",
    "    selected_rule = None\n",
    "    \n",
    "    # Iterate through rules to find the highest priority rule that matches the input\n",
    "    for r in reglesV2:\n",
    "        pattern = re.compile(r[1])\n",
    "        res = pattern.finditer(c)\n",
    "        pos = [m.span() for m in res]\n",
    "        if len(pos) > 0 and r[3] > max_priority:\n",
    "            max_priority = r[3]\n",
    "            selected_rule = r\n",
    "            \n",
    "    if selected_rule:\n",
    "        if selected_rule[4]:\n",
    "            # If a function is specified, execute the function\n",
    "            print(selected_rule[4](re.search(selected_rule[1], c)))\n",
    "        else:\n",
    "            # If no function is specified, print the response\n",
    "            print(selected_rule[2])\n",
    "    else:\n",
    "        # If no rule matches, print the default response\n",
    "        print(\"Je ne sais pas.\")"
   ]
  }
 ],
 "metadata": {
  "kernelspec": {
   "display_name": "Python 3",
   "language": "python",
   "name": "python3"
  },
  "language_info": {
   "codemirror_mode": {
    "name": "ipython",
    "version": 3
   },
   "file_extension": ".py",
   "mimetype": "text/x-python",
   "name": "python",
   "nbconvert_exporter": "python",
   "pygments_lexer": "ipython3",
   "version": "3.12.2"
  },
  "orig_nbformat": 4
 },
 "nbformat": 4,
 "nbformat_minor": 2
}
