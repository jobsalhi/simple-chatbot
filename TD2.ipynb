{
 "cells": [
  {
   "cell_type": "code",
   "execution_count": 1,
   "metadata": {},
   "outputs": [],
   "source": [
    "import re\n",
    "reglesV1= [\n",
    "    [\"bonjour1\",\"salut\",\"Salut à toi !\"],\n",
    "    [\"bonjour2\", \"bonjour\" , \"Bonjour comment je peut vous aider ?\"]\n",
    "]"
   ]
  },
  {
   "cell_type": "code",
   "execution_count": 2,
   "metadata": {},
   "outputs": [
    {
     "name": "stdout",
     "output_type": "stream",
     "text": [
      "[(0, 5)]\n",
      "regle  bonjour1\n",
      "Salut à toi !\n",
      "[]\n",
      "[(5, 10)]\n",
      "regle  bonjour1\n",
      "Salut à toi !\n",
      "[]\n",
      "[]\n",
      "[]\n",
      "[]\n",
      "[]\n"
     ]
    }
   ],
   "source": [
    "c = \"\"\n",
    "while c != \"bye\":\n",
    "    c = input(\"> \")\n",
    "    for r in reglesV1:\n",
    "        pattern = re.compile(r[1])\n",
    "        res = pattern.finditer(c)\n",
    "        pos = [m.span() for m in res]\n",
    "        print(pos)\n",
    "        if len(pos) > 0:\n",
    "            print(\"regle \", r[0])\n",
    "            print(r[2])"
   ]
  }
 ],
 "metadata": {
  "kernelspec": {
   "display_name": "Python 3",
   "language": "python",
   "name": "python3"
  },
  "language_info": {
   "codemirror_mode": {
    "name": "ipython",
    "version": 3
   },
   "file_extension": ".py",
   "mimetype": "text/x-python",
   "name": "python",
   "nbconvert_exporter": "python",
   "pygments_lexer": "ipython3",
   "version": "3.12.2"
  },
  "orig_nbformat": 4
 },
 "nbformat": 4,
 "nbformat_minor": 2
}
