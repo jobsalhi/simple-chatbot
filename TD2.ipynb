{
 "cells": [
  {
   "cell_type": "code",
   "execution_count": 8,
   "metadata": {},
   "outputs": [],
   "source": [
    "import re\n",
    "reglesV1= [\n",
    "    [\"bonjour1\",\"salut\",\"Salut à toi !\"],\n",
    "    [\"bonjour2\", \"bonjour\" , \"Bonjour comment je peut vous aider ?\"]\n",
    "]"
   ]
  },
  {
   "cell_type": "code",
   "execution_count": 9,
   "metadata": {},
   "outputs": [
    {
     "ename": "NameError",
     "evalue": "name 'patter' is not defined",
     "output_type": "error",
     "traceback": [
      "\u001b[1;31m---------------------------------------------------------------------------\u001b[0m",
      "\u001b[1;31mNameError\u001b[0m                                 Traceback (most recent call last)",
      "Cell \u001b[1;32mIn[9], line 6\u001b[0m\n\u001b[0;32m      4\u001b[0m \u001b[38;5;28;01mfor\u001b[39;00m r \u001b[38;5;129;01min\u001b[39;00m reglesV1:\n\u001b[0;32m      5\u001b[0m     pattern \u001b[38;5;241m=\u001b[39m re\u001b[38;5;241m.\u001b[39mcompile(r[\u001b[38;5;241m1\u001b[39m])\n\u001b[1;32m----> 6\u001b[0m     res \u001b[38;5;241m=\u001b[39m \u001b[43mpatter\u001b[49m\u001b[38;5;241m.\u001b[39mfinditer(c)\n\u001b[0;32m      7\u001b[0m     pos \u001b[38;5;241m=\u001b[39m [m\u001b[38;5;241m.\u001b[39mspan() \u001b[38;5;28;01mfor\u001b[39;00m m \u001b[38;5;129;01min\u001b[39;00m res]\n\u001b[0;32m      8\u001b[0m     \u001b[38;5;28;01mif\u001b[39;00m \u001b[38;5;28mlen\u001b[39m(pos) \u001b[38;5;241m>\u001b[39m \u001b[38;5;241m0\u001b[39m:\n",
      "\u001b[1;31mNameError\u001b[0m: name 'patter' is not defined"
     ]
    }
   ],
   "source": [
    "c = \"\"\n",
    "while c != \"bye\":\n",
    "    c = input(\"> \")\n",
    "    for r in reglesV1:\n",
    "        pattern = re.compile(r[1])\n",
    "        res = pattern.finditer(c)\n",
    "        pos = [m.span() for m in res]\n",
    "        if len(pos) > 0:\n",
    "            print(\"regle \", r[0])\n",
    "            print(r[2])"
   ]
  }
 ],
 "metadata": {
  "kernelspec": {
   "display_name": "Python 3",
   "language": "python",
   "name": "python3"
  },
  "language_info": {
   "codemirror_mode": {
    "name": "ipython",
    "version": 3
   },
   "file_extension": ".py",
   "mimetype": "text/x-python",
   "name": "python",
   "nbconvert_exporter": "python",
   "pygments_lexer": "ipython3",
   "version": "3.12.2"
  },
  "orig_nbformat": 4
 },
 "nbformat": 4,
 "nbformat_minor": 2
}
