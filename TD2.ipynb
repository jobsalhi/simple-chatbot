{
 "cells": [
  {
   "cell_type": "code",
   "execution_count": 25,
   "metadata": {},
   "outputs": [],
   "source": [
    "import re\n"
   ]
  },
  {
   "cell_type": "code",
   "execution_count": 21,
   "metadata": {},
   "outputs": [],
   "source": [
    "def faire_addition(match):\n",
    "    # Capturer les nombres à additionner\n",
    "    nombre1 = int(match.group(1))\n",
    "    nombre2 = int(match.group(2))\n",
    "    \n",
    "    # Effectuer l'addition\n",
    "    resultat = nombre1 + nombre2\n",
    "    \n",
    "    # Retourner le résultat de l'addition\n",
    "    return f\"{nombre1} + {nombre2} = {resultat}\"\n",
    "    \n",
    "# Function to handle \"Je m'appelle\" rule and store the interlocutor's name in memory\n",
    "def handle_name(match):\n",
    "    name = match.group(1)\n",
    "    memory['name'] = name  # Store the interlocutor's name in memory\n",
    "    return f\"Bonjour {name}, comment puis-je vous aider ?\"\n",
    "\n",
    "# Function to handle the \"au revoir\" rule and use the interlocutor's name from memory\n",
    "def handle_goodbye(match):\n",
    "    if 'name' in memory:\n",
    "        name = memory['name']\n",
    "        return f\"Au revoir {name}, c’était un plaisir de converser.\"\n",
    "    else:\n",
    "        return \"Au revoir, c’était un plaisir de converser.\"\n"
   ]
  },
  {
   "cell_type": "code",
   "execution_count": 32,
   "metadata": {},
   "outputs": [],
   "source": [
    "reglesV2 = [\n",
    "    [\"bonjour1\", \"salut\", \"Salut à toi !\", 1, None],\n",
    "    [\"bonjour2\", \"salut\", \"Salut!\", 2, None],\n",
    "    [\"bonjour2\", \"bonjour\", \"Salut humain\", 1, None],\n",
    "    [\"presentation1\", \"je m'appelle (\\\\w+)\", None, 2, handle_name],\n",
    "    [\"presentation2\", \"je m'appelle (\\\\w+)\", None, 2, handle_name],\n",
    "    [\"presentation3\", \"je suis (\\\\w+)\", None, 2, handle_name],\n",
    "    [\"bye\", \"by.*\", None, 1, handle_goodbye],\n",
    "    [\"au revoir\", \"au revoir\", None, 1, handle_goodbye],\n",
    "    [\"jo\", \"jeux olympiques\", \"Les prochains JO auront lieu à Paris en 2024.\", 3, None],\n",
    "    [\n",
    "        \"capacite\",\n",
    "        \"capable de faire.*\",\n",
    "        \"Je peux parler des futurs JO et calculer des sommes.\",\n",
    "        2,\n",
    "        None,\n",
    "    ],\n",
    " [\"addition\", r\"(?:(?:quel est le résultat de|calcule) )?(\\d+) \\+ (\\d+)\", None, 5, faire_addition],\n",
    "    [\n",
    "        \"age\",\n",
    "        \"quel est ton âge\",\n",
    "        \"Je suis un programme informatique, je n'ai pas d'âge !\",\n",
    "        2,\n",
    "        None,\n",
    "    ],\n",
    "    [\n",
    "        \"humeur\",\n",
    "        \"comment vas-tu\",\n",
    "        \"Je suis un programme informatique, je n'ai pas de sensations !\",\n",
    "        2,\n",
    "        None,\n",
    "    ],\n",
    "    [\"inconnu\", \".*\", \"Je ne sais pas.\", 0, None],\n",
    "]"
   ]
  },
  {
   "cell_type": "code",
   "execution_count": null,
   "metadata": {},
   "outputs": [],
   "source": [
    "memory = {}\n",
    "c = \"\"\n",
    "while (c != \"bye\" and c != \"au revoir\"):\n",
    "    c = input(\"> \") # le prompt\n",
    "    max_priority = -1\n",
    "    selected_rule = None\n",
    "    \n",
    "    # Iterate through rules to find the highest priority rule that matches the input\n",
    "    for r in reglesV2:\n",
    "        pattern = re.compile(r[1])\n",
    "        res = pattern.finditer(c)\n",
    "        pos = [m.span() for m in res]\n",
    "        if len(pos) > 0 and r[3] > max_priority:\n",
    "            max_priority = r[3]\n",
    "            selected_rule = r\n",
    "            \n",
    "    if selected_rule:\n",
    "        if selected_rule[4]:\n",
    "            # If a function is specified, execute the function\n",
    "            print(selected_rule[4](re.search(selected_rule[1], c)))\n",
    "        else:\n",
    "            # If no function is specified, print the response\n",
    "            print(selected_rule[2])\n",
    "    else:\n",
    "        # If no rule matches, print the default response\n",
    "        print(\"Je ne sais pas.\")"
   ]
  }
 ],
 "metadata": {
  "kernelspec": {
   "display_name": "Python 3",
   "language": "python",
   "name": "python3"
  },
  "language_info": {
   "codemirror_mode": {
    "name": "ipython",
    "version": 3
   },
   "file_extension": ".py",
   "mimetype": "text/x-python",
   "name": "python",
   "nbconvert_exporter": "python",
   "pygments_lexer": "ipython3",
   "version": "3.12.2"
  },
  "orig_nbformat": 4
 },
 "nbformat": 4,
 "nbformat_minor": 2
}
